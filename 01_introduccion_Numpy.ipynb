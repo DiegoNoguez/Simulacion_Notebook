{
 "cells": [
  {
   "cell_type": "markdown",
   "id": "9b2d96b9",
   "metadata": {},
   "source": [
    "# Introduccion a numpy "
   ]
  },
  {
   "cell_type": "markdown",
   "id": "53ff4607",
   "metadata": {},
   "source": [
    "[Numpy](https://numpy.org/doc/stable/) es una biblioteca fundamemntal para la computación cientifica con Python.\n",
    "\n",
    "* Proporciona arrays N-Dimensionales.\n",
    "* Implementa funciones matematicas sofisticadas.\n",
    "* Proporciona herramientas para integrar C/C++ y Fortran.\n",
    "* Proporciona mecanismo para facilitar la realizacion de tareas relacionadas con álgebra lineal o numeros aleatorios"
   ]
  },
  {
   "cell_type": "markdown",
   "id": "82bbe99c",
   "metadata": {},
   "source": [
    "## Imports"
   ]
  },
  {
   "cell_type": "code",
   "execution_count": 1,
   "id": "c17888da",
   "metadata": {},
   "outputs": [],
   "source": [
    "import numpy as np "
   ]
  },
  {
   "cell_type": "markdown",
   "id": "d08353ac",
   "metadata": {},
   "source": [
    "### Arrays\n",
    "\n",
    "Un **array** es una estructura de datos que consiste en una coleccion de elementos (valores o variable), cada identificado por al menos un indice o clave. Un array se almacena de modo que la psosicion de cada elemento se puede calcular a partir de su tupla de indice mediante su formula matemática. EL tipo mas simple del array es un array lineal, tambien llamado array unidimensional "
   ]
  },
  {
   "cell_type": "markdown",
   "id": "3ff59884",
   "metadata": {},
   "source": [
    "En Numpy:\n",
    "\n",
    "* Cada dimension se denomina **axis**.\n",
    "* Tambien el número de dimensiones se denomina **rank**\n",
    "* La lista de dimensiones con su correspondiente longitud se denomina **shape**.\n",
    "* El número total de elementos (la multiplicacion de las dimensiones) se denomina **size**"
   ]
  },
  {
   "cell_type": "code",
   "execution_count": 2,
   "id": "bc36e219",
   "metadata": {},
   "outputs": [],
   "source": [
    "\n",
    "# Array cuyos valoes son todos 0\n",
    "a = np.zeros((2 , 4)) ##primeo estan las filas y despues las columnas debido a que estamso en el cuadrante 4 \n"
   ]
  },
  {
   "cell_type": "code",
   "execution_count": 3,
   "id": "b84116e0",
   "metadata": {},
   "outputs": [
    {
     "data": {
      "text/plain": [
       "array([[0., 0., 0., 0.],\n",
       "       [0., 0., 0., 0.]])"
      ]
     },
     "execution_count": 3,
     "metadata": {},
     "output_type": "execute_result"
    }
   ],
   "source": [
    "a"
   ]
  },
  {
   "cell_type": "markdown",
   "id": "1ce1ac77",
   "metadata": {},
   "source": [
    "**a** es un array \n",
    "\n",
    "* Con dos **axis**, la primera de longitud 2 y el segundo de longitud 4\n",
    "* Con un **rank** igual a 2.\n",
    "* Con un **shape** igual a (2, 4).\n",
    "* Con un **size** igual a 8."
   ]
  },
  {
   "cell_type": "code",
   "execution_count": 4,
   "id": "0b890835",
   "metadata": {},
   "outputs": [
    {
     "data": {
      "text/plain": [
       "(2, 4)"
      ]
     },
     "execution_count": 4,
     "metadata": {},
     "output_type": "execute_result"
    }
   ],
   "source": [
    "a.shape"
   ]
  },
  {
   "cell_type": "code",
   "execution_count": 5,
   "id": "2aedf6ee",
   "metadata": {},
   "outputs": [
    {
     "data": {
      "text/plain": [
       "2"
      ]
     },
     "execution_count": 5,
     "metadata": {},
     "output_type": "execute_result"
    }
   ],
   "source": [
    "a.ndim"
   ]
  },
  {
   "cell_type": "code",
   "execution_count": 6,
   "id": "029932ed",
   "metadata": {},
   "outputs": [
    {
     "data": {
      "text/plain": [
       "8"
      ]
     },
     "execution_count": 6,
     "metadata": {},
     "output_type": "execute_result"
    }
   ],
   "source": [
    "a.size"
   ]
  },
  {
   "cell_type": "markdown",
   "id": "ad455f07",
   "metadata": {},
   "source": [
    "### Creacion de Arrays"
   ]
  },
  {
   "cell_type": "code",
   "execution_count": 7,
   "id": "917d394f",
   "metadata": {},
   "outputs": [
    {
     "data": {
      "text/plain": [
       "array([[[0., 0., 0., 0.],\n",
       "        [0., 0., 0., 0.],\n",
       "        [0., 0., 0., 0.]],\n",
       "\n",
       "       [[0., 0., 0., 0.],\n",
       "        [0., 0., 0., 0.],\n",
       "        [0., 0., 0., 0.]]])"
      ]
     },
     "execution_count": 7,
     "metadata": {},
     "output_type": "execute_result"
    }
   ],
   "source": [
    "# Array cuyos valores son todos 0\n",
    "np.zeros((2, 3, 4)) #Primero se pone las dimension, y despues se pone las filas y despues se ponen las columnas en un array "
   ]
  },
  {
   "cell_type": "code",
   "execution_count": 8,
   "id": "5779baff",
   "metadata": {},
   "outputs": [
    {
     "data": {
      "text/plain": [
       "array([[[1., 1., 1., 1.],\n",
       "        [1., 1., 1., 1.],\n",
       "        [1., 1., 1., 1.]],\n",
       "\n",
       "       [[1., 1., 1., 1.],\n",
       "        [1., 1., 1., 1.],\n",
       "        [1., 1., 1., 1.]]])"
      ]
     },
     "execution_count": 8,
     "metadata": {},
     "output_type": "execute_result"
    }
   ],
   "source": [
    "#Array cuyos valores son todos 1 \n",
    "np.ones((2, 3, 4))"
   ]
  },
  {
   "cell_type": "code",
   "execution_count": 9,
   "id": "bce2e3e8",
   "metadata": {},
   "outputs": [
    {
     "data": {
      "text/plain": [
       "array([[[8, 8, 8, 8],\n",
       "        [8, 8, 8, 8],\n",
       "        [8, 8, 8, 8]],\n",
       "\n",
       "       [[8, 8, 8, 8],\n",
       "        [8, 8, 8, 8],\n",
       "        [8, 8, 8, 8]]])"
      ]
     },
     "execution_count": 9,
     "metadata": {},
     "output_type": "execute_result"
    }
   ],
   "source": [
    "# Array cuyos valores son todos el valor indicado como el segundo parametri de la funcion \n",
    "np.full((2, 3, 4), 8)"
   ]
  },
  {
   "cell_type": "code",
   "execution_count": 10,
   "id": "b30c8547",
   "metadata": {},
   "outputs": [
    {
     "data": {
      "text/plain": [
       "array([[[1., 1., 1., 1.],\n",
       "        [1., 1., 1., 1.],\n",
       "        [1., 1., 1., 1.]],\n",
       "\n",
       "       [[1., 1., 1., 1.],\n",
       "        [1., 1., 1., 1.],\n",
       "        [1., 1., 1., 1.]]])"
      ]
     },
     "execution_count": 10,
     "metadata": {},
     "output_type": "execute_result"
    }
   ],
   "source": [
    "# EL resultado de np.empty no es predecible.\n",
    "# Inicializa los valores del array con lo que hay en memoria en ese momento.\n",
    "np.empty((2, 3, 4))"
   ]
  },
  {
   "cell_type": "code",
   "execution_count": 11,
   "id": "fe227651",
   "metadata": {},
   "outputs": [
    {
     "data": {
      "text/plain": [
       "array([[1, 2, 3],\n",
       "       [4, 5, 6]])"
      ]
     },
     "execution_count": 11,
     "metadata": {},
     "output_type": "execute_result"
    }
   ],
   "source": [
    "# Inicializar un array con un array de Pyhton\n",
    "b = np.array([[1, 2, 3],[4, 5, 6]])\n",
    "b #Solo lo ve el programador mas no el usuario."
   ]
  },
  {
   "cell_type": "code",
   "execution_count": 12,
   "id": "22919428",
   "metadata": {},
   "outputs": [
    {
     "data": {
      "text/plain": [
       "(2, 3)"
      ]
     },
     "execution_count": 12,
     "metadata": {},
     "output_type": "execute_result"
    }
   ],
   "source": [
    "b.shape"
   ]
  },
  {
   "cell_type": "code",
   "execution_count": 13,
   "id": "94602eb4",
   "metadata": {},
   "outputs": [
    {
     "name": "stdout",
     "output_type": "stream",
     "text": [
      "[0.         0.66666667 1.33333333 2.         2.66666667 3.33333333\n",
      " 4.         4.66666667 5.33333333 6.        ]\n"
     ]
    }
   ],
   "source": [
    "# Crear un array utilizando una funcion basada en rangos  \n",
    "# (min, max, nun de elementos)\n",
    "# Cuando esta linspace es como un for y especifica rangos.\n",
    "print(np.linspace(0,6,10))"
   ]
  },
  {
   "cell_type": "code",
   "execution_count": 14,
   "id": "8900d55f",
   "metadata": {},
   "outputs": [
    {
     "data": {
      "text/plain": [
       "array([[[0.61211634, 0.70423583, 0.76453377, 0.47516777],\n",
       "        [0.3968941 , 0.03609089, 0.20328053, 0.9800701 ],\n",
       "        [0.23224509, 0.53399877, 0.65053011, 0.19942977]],\n",
       "\n",
       "       [[0.1161368 , 0.06257059, 0.36703011, 0.20127681],\n",
       "        [0.90700807, 0.51738854, 0.62036177, 0.33730909],\n",
       "        [0.30446539, 0.47492646, 0.95718518, 0.65793817]]])"
      ]
     },
     "execution_count": 14,
     "metadata": {},
     "output_type": "execute_result"
    }
   ],
   "source": [
    "# Inicializar un array con valores aleatorios \n",
    "np.random.rand(2,3,4)"
   ]
  },
  {
   "cell_type": "code",
   "execution_count": 15,
   "id": "5f489e2d",
   "metadata": {},
   "outputs": [
    {
     "data": {
      "text/plain": [
       "array([[-0.16989625,  0.87546135,  2.02629624,  0.3444083 ],\n",
       "       [-0.82036857,  1.42520363,  1.70869039,  2.68701486]])"
      ]
     },
     "execution_count": 15,
     "metadata": {},
     "output_type": "execute_result"
    }
   ],
   "source": [
    "# Inicializar un array con valores aleatorios conforme a una distribucion normal una tstudent \n",
    "np.random.randn(2, 4)"
   ]
  },
  {
   "cell_type": "code",
   "execution_count": 16,
   "id": "c8cb93d5",
   "metadata": {},
   "outputs": [
    {
     "data": {
      "image/png": "[encoded data removed]",
      "text/plain": [
       "<Figure size 640x480 with 1 Axes>"
      ]
     },
     "metadata": {},
     "output_type": "display_data"
    }
   ],
   "source": [
    "%matplotlib inline  \n",
    "import matplotlib.pyplot as plt\n",
    "# Primer linea es para visualizar el grafico \n",
    "c = np.random.randn(100000)\n",
    "\n",
    "plt.hist(c, bins= 50)\n",
    "plt.show()\n"
   ]
  },
  {
   "cell_type": "code",
   "execution_count": 17,
   "id": "121ef162",
   "metadata": {},
   "outputs": [
    {
     "data": {
      "text/plain": [
       "array([[ 0.,  2.,  4.,  6.,  8.],\n",
       "       [ 1.,  3.,  5.,  7.,  9.],\n",
       "       [ 2.,  4.,  6.,  8., 10.]])"
      ]
     },
     "execution_count": 17,
     "metadata": {},
     "output_type": "execute_result"
    }
   ],
   "source": [
    "# Inicializar un array utilizando una funcion personalizada \n",
    "def func(X, y):\n",
    "    return X + 2 * y\n",
    "\n",
    "np.fromfunction(func,(3, 5))"
   ]
  },
  {
   "cell_type": "markdown",
   "id": "4bb5ca44",
   "metadata": {},
   "source": [
    "### Acceso a los elementos de un Array\n",
    "\n",
    "#### Array unidimensional"
   ]
  },
  {
   "cell_type": "code",
   "execution_count": 18,
   "id": "db27e32b",
   "metadata": {},
   "outputs": [
    {
     "name": "stdout",
     "output_type": "stream",
     "text": [
      "Shape:  (6,)\n",
      "array_uni:  [ 1  3  5  7  9 11]\n"
     ]
    }
   ],
   "source": [
    "# Crear un array unidimensional\n",
    "array_uni = np.array([1, 3, 5, 7, 9, 11])\n",
    "print(\"Shape: \", array_uni.shape)\n",
    "\n",
    "print(\"array_uni: \", array_uni)"
   ]
  },
  {
   "cell_type": "code",
   "execution_count": 19,
   "id": "8aa72865",
   "metadata": {},
   "outputs": [
    {
     "data": {
      "text/plain": [
       "np.int64(9)"
      ]
     },
     "execution_count": 19,
     "metadata": {},
     "output_type": "execute_result"
    }
   ],
   "source": [
    "# Acceder al 5 elemento del Array\n",
    "array_uni[4]"
   ]
  },
  {
   "cell_type": "code",
   "execution_count": 20,
   "id": "39905a86",
   "metadata": {},
   "outputs": [
    {
     "data": {
      "text/plain": [
       "array([5, 7])"
      ]
     },
     "execution_count": 20,
     "metadata": {},
     "output_type": "execute_result"
    }
   ],
   "source": [
    "# Acceder al 3 y 4 elemento del Array \n",
    "array_uni[2: 4]  #Se indica que recorra el arreglo hasta un rango \n",
    "\n",
    "# Arreglo se declara mas grande "
   ]
  },
  {
   "cell_type": "code",
   "execution_count": 21,
   "id": "c35f058d",
   "metadata": {},
   "outputs": [
    {
     "data": {
      "text/plain": [
       "array([ 1,  7, 11])"
      ]
     },
     "execution_count": 21,
     "metadata": {},
     "output_type": "execute_result"
    }
   ],
   "source": [
    "# Acceder al elemento 0, 3 y 5 del Array \n",
    "array_uni[[0,3,5]]"
   ]
  },
  {
   "cell_type": "markdown",
   "id": "99628edf",
   "metadata": {},
   "source": [
    "#### Array Multidimensional"
   ]
  },
  {
   "cell_type": "code",
   "execution_count": 22,
   "id": "3e59f61a",
   "metadata": {},
   "outputs": [
    {
     "name": "stdout",
     "output_type": "stream",
     "text": [
      "Shape:  (2, 4)\n",
      "array_multi: \n",
      " [[1 2 3 4]\n",
      " [5 6 7 8]]\n"
     ]
    }
   ],
   "source": [
    "# Crear un array Multidimensional \n",
    "array_multi = np.array([[1, 2, 3, 4],[5, 6, 7, 8]])\n",
    "print(\"Shape: \", array_multi.shape)\n",
    "print(\"array_multi: \\n\", array_multi)"
   ]
  },
  {
   "cell_type": "code",
   "execution_count": 23,
   "id": "c26734c3",
   "metadata": {},
   "outputs": [
    {
     "data": {
      "text/plain": [
       "np.int64(4)"
      ]
     },
     "execution_count": 23,
     "metadata": {},
     "output_type": "execute_result"
    }
   ],
   "source": [
    "# Acceder al 4 elemento del array \n",
    "array_multi [0, 3]"
   ]
  },
  {
   "cell_type": "code",
   "execution_count": 24,
   "id": "f05c67ae",
   "metadata": {},
   "outputs": [
    {
     "data": {
      "text/plain": [
       "array([5, 6, 7, 8])"
      ]
     },
     "execution_count": 24,
     "metadata": {},
     "output_type": "execute_result"
    }
   ],
   "source": [
    "# Acceder a la segunda fila del array \n",
    "array_multi [1, :]"
   ]
  },
  {
   "cell_type": "code",
   "execution_count": 25,
   "id": "18eb56c3",
   "metadata": {},
   "outputs": [
    {
     "data": {
      "text/plain": [
       "array([3, 7])"
      ]
     },
     "execution_count": 25,
     "metadata": {},
     "output_type": "execute_result"
    }
   ],
   "source": [
    "# Aceder al 3 elemento de las primeras filas del Array \n",
    "array_multi[0: 2, 2]"
   ]
  },
  {
   "cell_type": "markdown",
   "id": "12451449",
   "metadata": {},
   "source": [
    "#### Modificcar un Array "
   ]
  },
  {
   "cell_type": "code",
   "execution_count": 26,
   "id": "957f0445",
   "metadata": {},
   "outputs": [
    {
     "name": "stdout",
     "output_type": "stream",
     "text": [
      "Shape:  (28,)\n",
      "Array1: \n",
      " [ 0  1  2  3  4  5  6  7  8  9 10 11 12 13 14 15 16 17 18 19 20 21 22 23\n",
      " 24 25 26 27]\n"
     ]
    }
   ],
   "source": [
    "# Crear un array unidimensional e inicializarlo con el rango de elementos del 0 - 27\n",
    "array1 = np.arange(28)\n",
    "print(\"Shape: \", array1.shape)\n",
    "print(\"Array1: \\n\", array1)"
   ]
  },
  {
   "cell_type": "code",
   "execution_count": 27,
   "id": "65c9b353",
   "metadata": {},
   "outputs": [
    {
     "name": "stdout",
     "output_type": "stream",
     "text": [
      "Shape:  (7, 4)\n",
      "Array1: \n",
      " [[ 0  1  2  3]\n",
      " [ 4  5  6  7]\n",
      " [ 8  9 10 11]\n",
      " [12 13 14 15]\n",
      " [16 17 18 19]\n",
      " [20 21 22 23]\n",
      " [24 25 26 27]]\n"
     ]
    }
   ],
   "source": [
    "# Cambiar las dimensiones del array y sus longitudes\n",
    "array1.shape = (7,4)\n",
    "print(\"Shape: \", array1.shape)\n",
    "print(\"Array1: \\n\", array1)"
   ]
  },
  {
   "cell_type": "code",
   "execution_count": 28,
   "id": "354ccf15",
   "metadata": {},
   "outputs": [
    {
     "name": "stdout",
     "output_type": "stream",
     "text": [
      "Shape:  (4, 7)\n",
      "Array2: \n",
      " [[ 0  1  2  3  4  5  6]\n",
      " [ 7  8  9 10 11 12 13]\n",
      " [14 15 16 17 18 19 20]\n",
      " [21 22 23 24 25 26 27]]\n",
      "Array1: \n",
      " [[ 0  1  2  3]\n",
      " [ 4  5  6  7]\n",
      " [ 8  9 10 11]\n",
      " [12 13 14 15]\n",
      " [16 17 18 19]\n",
      " [20 21 22 23]\n",
      " [24 25 26 27]]\n"
     ]
    }
   ],
   "source": [
    "# EL ejemplo anterior devuelve un nuevo array que apunta a los mismos datos \n",
    "# NOTA: las modificaciones de un array, modifican el otro array    .-Estan en la misma localidad de memoria= Apuntadores  se dirigen a memoria estatica \n",
    "array2 = array1.reshape(4,  7)\n",
    "print(\"Shape: \", array2.shape)\n",
    "print(\"Array2: \\n\", array2)\n",
    "print(\"Array1: \\n\", array1)"
   ]
  },
  {
   "cell_type": "code",
   "execution_count": 29,
   "id": "b9828a8c",
   "metadata": {},
   "outputs": [
    {
     "name": "stdout",
     "output_type": "stream",
     "text": [
      "Array1: \n",
      " [[ 0  1  2 20]\n",
      " [ 4  5  6  7]\n",
      " [ 8  9 10 11]\n",
      " [12 13 14 15]\n",
      " [16 17 18 19]\n",
      " [20 21 22 23]\n",
      " [24 25 26 27]]\n",
      "Array2: \n",
      " [[ 0  1  2 20  4  5  6]\n",
      " [ 7  8  9 10 11 12 13]\n",
      " [14 15 16 17 18 19 20]\n",
      " [21 22 23 24 25 26 27]]\n"
     ]
    }
   ],
   "source": [
    "# Modifica el array devuelto \n",
    "array2[0, 3] = 20\n",
    "print(\"Array1: \\n\", array1)\n",
    "print(\"Array2: \\n\", array2)\n"
   ]
  },
  {
   "cell_type": "code",
   "execution_count": 30,
   "id": "28f7b322",
   "metadata": {},
   "outputs": [
    {
     "name": "stdout",
     "output_type": "stream",
     "text": [
      "Array1:  [ 0  1  2 20  4  5  6  7  8  9 10 11 12 13 14 15 16 17 18 19 20 21 22 23\n",
      " 24 25 26 27]\n"
     ]
    }
   ],
   "source": [
    "# Regresar el array devolviendo un nuevo array de una sola dimension\n",
    "# NOIA: EL nuevo array apunta a los mismos datos \n",
    "print(\"Array1: \", array1.ravel())\n"
   ]
  },
  {
   "cell_type": "markdown",
   "id": "44221c67",
   "metadata": {},
   "source": [
    "#### Operaciones aritmeticas con arrays"
   ]
  },
  {
   "cell_type": "code",
   "execution_count": 31,
   "id": "1874be2b",
   "metadata": {},
   "outputs": [
    {
     "name": "stdout",
     "output_type": "stream",
     "text": [
      "Array1 :  [ 2  4  6  8 10 12 14 16]\n",
      "Array2:  [0 1 2 3 4 5 6 7]\n"
     ]
    }
   ],
   "source": [
    "# Creacion de dos Array unidimensionales\n",
    "array1 = np.arange(2, 18, 2)\n",
    "array2 = np.arange(8)\n",
    "\n",
    "print(\"Array1 : \",array1)\n",
    "\n",
    "print(\"Array2: \",array2)"
   ]
  },
  {
   "cell_type": "code",
   "execution_count": 32,
   "id": "8cd1f6bd",
   "metadata": {},
   "outputs": [
    {
     "name": "stdout",
     "output_type": "stream",
     "text": [
      "[ 2  5  8 11 14 17 20 23]\n"
     ]
    }
   ],
   "source": [
    "#Suma \n",
    "print(array1 + array2)"
   ]
  },
  {
   "cell_type": "code",
   "execution_count": 33,
   "id": "ccda1cae",
   "metadata": {},
   "outputs": [
    {
     "name": "stdout",
     "output_type": "stream",
     "text": [
      "[2 3 4 5 6 7 8 9]\n"
     ]
    }
   ],
   "source": [
    "# Resta\n",
    "print(array1 - array2)"
   ]
  },
  {
   "cell_type": "code",
   "execution_count": 34,
   "id": "b9877b82",
   "metadata": {},
   "outputs": [
    {
     "name": "stdout",
     "output_type": "stream",
     "text": [
      "[  0   4  12  24  40  60  84 112]\n"
     ]
    }
   ],
   "source": [
    "# Multiplicacion\n",
    "print(array1 * array2)"
   ]
  },
  {
   "cell_type": "markdown",
   "id": "8b4794d5",
   "metadata": {},
   "source": [
    "### BROADCASTING\n",
    "\n",
    "Si se aplican operaciones aritmeticas sobre array que no tengan la misma forma **shape** numpy aplica una propiedad que se denomina **BROADCASTING**\n"
   ]
  },
  {
   "cell_type": "code",
   "execution_count": 35,
   "id": "5e47b41e",
   "metadata": {},
   "outputs": [
    {
     "name": "stdout",
     "output_type": "stream",
     "text": [
      "Shape Array1:  (5,)\n",
      "Array1 :  [0 1 2 3 4]\n",
      "\n",
      "\n",
      "Shape Array2:  (1,)\n",
      "Array2 :  [3]\n"
     ]
    }
   ],
   "source": [
    "# cREACION DE DOS ARRAYS UNIDIMENSIONALES\n",
    "array1 = np.arange(5)\n",
    "array2 = np.array([3])\n",
    "\n",
    "print(\"Shape Array1: \", array1.shape)\n",
    "print(\"Array1 : \",array1)\n",
    "print(\"\\n\")\n",
    "print(\"Shape Array2: \", array2.shape)\n",
    "print(\"Array2 : \",array2)"
   ]
  },
  {
   "cell_type": "code",
   "execution_count": 36,
   "id": "20feafba",
   "metadata": {},
   "outputs": [
    {
     "data": {
      "text/plain": [
       "array([3, 4, 5, 6, 7])"
      ]
     },
     "execution_count": 36,
     "metadata": {},
     "output_type": "execute_result"
    }
   ],
   "source": [
    "# Suma de ambos arreglos\n",
    "array1 + array2\n"
   ]
  },
  {
   "cell_type": "code",
   "execution_count": 37,
   "id": "85a73b84",
   "metadata": {},
   "outputs": [
    {
     "name": "stdout",
     "output_type": "stream",
     "text": [
      "Shape Array1:  (2, 3)\n",
      "Array1 :  [[0 1 2]\n",
      " [3 4 5]]\n",
      "\n",
      "\n",
      "Shape Array2:  (3,)\n",
      "Array2 :  [ 6 10 14]\n"
     ]
    }
   ],
   "source": [
    "# Crear un array Multimdimiensional y unidimensional \n",
    "array1 = np.arange(6)\n",
    "array1.shape = (2,3)\n",
    "array2 = np.arange(6,18,4)\n",
    "print(\"Shape Array1: \", array1.shape)\n",
    "print(\"Array1 : \",array1)\n",
    "print(\"\\n\")\n",
    "\n",
    "print(\"Shape Array2: \", array2.shape)\n",
    "print(\"Array2 : \",array2)"
   ]
  },
  {
   "cell_type": "code",
   "execution_count": 38,
   "id": "b9c40095",
   "metadata": {},
   "outputs": [
    {
     "data": {
      "text/plain": [
       "array([[ 6, 11, 16],\n",
       "       [ 9, 14, 19]])"
      ]
     },
     "execution_count": 38,
     "metadata": {},
     "output_type": "execute_result"
    }
   ],
   "source": [
    "# Suma de ambos arrays \n",
    "array1 + array2\n"
   ]
  },
  {
   "cell_type": "markdown",
   "id": "19eafdd7",
   "metadata": {},
   "source": [
    "### Funciones estadísticas con Arrays\n"
   ]
  },
  {
   "cell_type": "code",
   "execution_count": 39,
   "id": "a6ddde08",
   "metadata": {},
   "outputs": [
    {
     "name": "stdout",
     "output_type": "stream",
     "text": [
      "Array1 :  [ 1  3  5  7  9 11 13 15 17 19]\n"
     ]
    }
   ],
   "source": [
    "# Crear un array \n",
    "array1 = np.arange(1, 20, 2)\n",
    "print(\"Array1 : \",array1)"
   ]
  },
  {
   "cell_type": "code",
   "execution_count": 40,
   "id": "cdcc153f",
   "metadata": {},
   "outputs": [
    {
     "data": {
      "text/plain": [
       "np.float64(10.0)"
      ]
     },
     "execution_count": 40,
     "metadata": {},
     "output_type": "execute_result"
    }
   ],
   "source": [
    "# Media de los elementos del Array\n",
    "array1.mean()"
   ]
  },
  {
   "cell_type": "code",
   "execution_count": 41,
   "id": "eb872441",
   "metadata": {},
   "outputs": [
    {
     "data": {
      "text/plain": [
       "np.int64(100)"
      ]
     },
     "execution_count": 41,
     "metadata": {},
     "output_type": "execute_result"
    }
   ],
   "source": [
    "# Suma de los elementos del array\n",
    "array1.sum()"
   ]
  },
  {
   "cell_type": "markdown",
   "id": "78ca40c1",
   "metadata": {},
   "source": [
    "Funciones universales proporcionadas por NUmpy : **ufunc**"
   ]
  },
  {
   "cell_type": "code",
   "execution_count": 42,
   "id": "11d7802b",
   "metadata": {},
   "outputs": [
    {
     "data": {
      "text/plain": [
       "array([  1,   9,  25,  49,  81, 121, 169, 225, 289, 361])"
      ]
     },
     "execution_count": 42,
     "metadata": {},
     "output_type": "execute_result"
    }
   ],
   "source": [
    "# Cuadrado de los elementos del array \n",
    "np.square(array1)"
   ]
  },
  {
   "cell_type": "code",
   "execution_count": 43,
   "id": "95add035",
   "metadata": {},
   "outputs": [
    {
     "data": {
      "text/plain": [
       "array([1.        , 1.73205081, 2.23606798, 2.64575131, 3.        ,\n",
       "       3.31662479, 3.60555128, 3.87298335, 4.12310563, 4.35889894])"
      ]
     },
     "execution_count": 43,
     "metadata": {},
     "output_type": "execute_result"
    }
   ],
   "source": [
    "# Raiz cuadrada  de los elemnetos del array \n",
    "np.sqrt(array1)"
   ]
  },
  {
   "cell_type": "code",
   "execution_count": 44,
   "id": "622f021a",
   "metadata": {},
   "outputs": [
    {
     "data": {
      "text/plain": [
       "array([2.71828183e+00, 2.00855369e+01, 1.48413159e+02, 1.09663316e+03,\n",
       "       8.10308393e+03, 5.98741417e+04, 4.42413392e+05, 3.26901737e+06,\n",
       "       2.41549528e+07, 1.78482301e+08])"
      ]
     },
     "execution_count": 44,
     "metadata": {},
     "output_type": "execute_result"
    }
   ],
   "source": [
    "# Exponencial de los elementos del Array\n",
    "np.exp(array1)"
   ]
  },
  {
   "cell_type": "code",
   "execution_count": 45,
   "id": "a0266f7a",
   "metadata": {},
   "outputs": [
    {
     "data": {
      "text/plain": [
       "array([0.        , 1.09861229, 1.60943791, 1.94591015, 2.19722458,\n",
       "       2.39789527, 2.56494936, 2.7080502 , 2.83321334, 2.94443898])"
      ]
     },
     "execution_count": 45,
     "metadata": {},
     "output_type": "execute_result"
    }
   ],
   "source": [
    "# Logaritmo natural de los elementos del Array\n",
    "np.log(array1)"
   ]
  },
  {
   "cell_type": "code",
   "execution_count": null,
   "id": "e1f89cb5",
   "metadata": {},
   "outputs": [],
   "source": []
  }
 ],
 "metadata": {
  "kernelspec": {
   "display_name": "simul",
   "language": "python",
   "name": "python3"
  },
  "language_info": {
   "codemirror_mode": {
    "name": "ipython",
    "version": 3
   },
   "file_extension": ".py",
   "mimetype": "text/x-python",
   "name": "python",
   "nbconvert_exporter": "python",
   "pygments_lexer": "ipython3",
   "version": "3.13.7"
  }
 },
 "nbformat": 4,
 "nbformat_minor": 5
}
